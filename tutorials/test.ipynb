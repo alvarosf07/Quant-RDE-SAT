{
 "cells": [
  {
   "cell_type": "code",
   "execution_count": 1,
   "metadata": {},
   "outputs": [
    {
     "name": "stderr",
     "output_type": "stream",
     "text": [
      "/Users/alvarosanchez/Documents/Projects/personal-projects/Quant-RDE-SAT/conda/lib/python3.13/site-packages/tqdm/auto.py:21: TqdmWarning: IProgress not found. Please update jupyter and ipywidgets. See https://ipywidgets.readthedocs.io/en/stable/user_install.html\n",
      "  from .autonotebook import tqdm as notebook_tqdm\n"
     ]
    }
   ],
   "source": [
    "import sys, os\n",
    "sys.path.append(os.path.expandvars('${HOME}/Documents/Projects/personal-projects/Quant-RDE-SAT'))\n",
    "\n",
    "from qrde_sat.qrde1_data import *\n",
    "from qrde_sat.qrde2_research import *\n",
    "from qrde_sat.qrde3_models import *\n",
    "from qrde_sat.qrde4_strategies import *\n",
    "from qrde_sat.qrde5_backtesting import *"
   ]
  },
  {
   "cell_type": "code",
   "execution_count": 12,
   "metadata": {},
   "outputs": [],
   "source": [
    "GS = EquityAsset('GS')"
   ]
  },
  {
   "cell_type": "code",
   "execution_count": 3,
   "metadata": {},
   "outputs": [
    {
     "data": {
      "text/plain": [
       "datetime.datetime(2023, 9, 14, 0, 0)"
      ]
     },
     "execution_count": 3,
     "metadata": {},
     "output_type": "execute_result"
    }
   ],
   "source": [
    "import dateutil\n",
    "\n",
    "dateutil.parser.parse(\"2023.09.14\")\n",
    "dateutil.parser.parse(\"2023-09-14\")"
   ]
  },
  {
   "cell_type": "code",
   "execution_count": null,
   "metadata": {},
   "outputs": [
    {
     "name": "stdout",
     "output_type": "stream",
     "text": [
      "\n",
      "Sourcing data from API:\n",
      " --> https://www.alphavantage.co/query?&function=TIME_SERIES_WEEKLY&symbol=GS&outputsize=full&adjusted=false&extended_hours=false&datatype=json&apikey=SG4CVRTBIFVSVSRA \n",
      "\n",
      "          Date      Open      High       Low     Close    Volume\n",
      "1   2024-11-15  598.9000  607.1500  586.2400  593.5400  10345127\n",
      "2   2024-11-08  518.0000  598.6050  510.5100  589.2600  19200378\n",
      "3   2024-11-01  515.4000  530.7850  514.5301  519.3500   8098061\n",
      "4   2024-10-25  528.0000  529.8500  510.7400  512.6000   8294593\n",
      "5   2024-10-18  517.6500  540.5100  515.5100  528.5000  13252133\n",
      "6   2024-10-11  494.6300  517.9700  490.7900  516.3000   7884739\n",
      "7   2024-10-04  494.8900  496.5150  484.2000  495.1600   7589303\n",
      "8   2024-09-27  498.2100  505.4000  490.3950  498.5100   6551043\n",
      "9   2024-09-20  481.4300  506.4100  479.4900  498.4300  12158126\n",
      "10  2024-09-13  485.5300  494.2800  457.4800  478.9900  11000555\n",
      "11  2024-09-06  507.4700  509.7000  477.0600  479.6100   7684736\n",
      "12  2024-08-30  512.3400  513.5000  498.4700  510.2500   7035638\n",
      "13  2024-08-23  505.0000  512.4400  494.0325  509.4200   6763634\n",
      "14  2024-08-16  490.2600  506.9100  483.7500  504.2600   7948548\n",
      "15  2024-08-09  447.5900  492.0000  437.3700  490.2600  12533544\n",
      "16  2024-08-02  500.4200  517.2600  467.2100  470.6400  17023147\n",
      "17  2024-07-26  484.5600  504.0000  482.3808  499.0300   9151221\n",
      "18  2024-07-19  480.2500  509.4750  476.3070  484.9300  16811873\n",
      "19  2024-07-12  467.6500  483.4400  461.5800  479.8800  13665824\n",
      "20  2024-07-05  454.5100  469.8899  454.0100  464.7500   5930205\n",
      "21  2024-06-28  451.2500  464.0800  442.8000  452.3200  12322190\n",
      "22  2024-06-21  445.1000  460.4100  443.3900  450.1800   9329828\n",
      "23  2024-06-14  452.3300  457.6400  439.1500  446.4600   8778075\n",
      "24  2024-06-07  458.8700  464.5200  449.2100  454.9100   8778727\n",
      "25  2024-05-31  459.9400  463.6900  447.6000  456.5200   9020116\n",
      "26  2024-05-24  468.2000  471.4800  457.4100  461.1800  12270853\n",
      "27  2024-05-17  456.2700  468.6594  453.3200  467.7200   9936497\n",
      "28  2024-05-10  441.7500  458.7500  439.6800  454.7300  10513653\n",
      "29  2024-05-03  427.5700  442.3000  425.1900  438.1800  11094705\n",
      "30  2024-04-26  406.9400  428.5300  404.5700  427.5700  12696639\n",
      "31  2024-04-19  407.0000  412.8650  395.1800  404.0000  19592414\n",
      "32  2024-04-12  409.1000  413.2212  387.1200  389.4900   9318480\n",
      "33  2024-04-05  416.6800  419.0000  401.4700  408.0700   8425410\n",
      "34  2024-03-28  406.8700  419.2000  403.8600  417.6900   7854298\n",
      "35  2024-03-22  388.6500  416.7600  383.4100  406.8200  12888727\n",
      "36  2024-03-15  385.6700  396.3800  381.4200  387.2100  12201101\n",
      "37  2024-03-08  388.8100  397.4900  384.5200  386.9900  11035876\n",
      "38  2024-03-01  391.0500  396.0600  385.2500  388.1000  10807860\n",
      "39  2024-02-23  380.9500  396.7900  380.8500  391.0500   8706514\n",
      "40  2024-02-16  385.0000  396.3500  375.2000  384.4400  12465245\n",
      "41  2024-02-09  384.6000  388.1100  381.0000  384.2600   9624459\n",
      "42  2024-02-02  375.8900  393.9099  374.2400  387.8600  13270847\n",
      "43  2024-01-26  386.3600  392.7300  376.7500  377.7900  14102520\n",
      "44  2024-01-19  378.3600  385.0100  372.0700  382.2000  10716399\n",
      "45  2024-01-12  385.9700  389.0800  374.6800  377.7500   9592481\n",
      "46  2024-01-05  383.0000  389.4700  376.7633  386.4400   9043981\n"
     ]
    }
   ],
   "source": [
    "dataGS = GS.get_ohlcv_data(sd=\"2024-01-01\", ed=\"2024-11-20\", frequency_interval=\"weekly\", api_source=\"AlphaVantageAPI\", data_adjusted=\"false\", extended_hours=\"false\")\n"
   ]
  },
  {
   "cell_type": "code",
   "execution_count": null,
   "metadata": {},
   "outputs": [
    {
     "data": {
      "text/html": [
       "<div>\n",
       "<style scoped>\n",
       "    .dataframe tbody tr th:only-of-type {\n",
       "        vertical-align: middle;\n",
       "    }\n",
       "\n",
       "    .dataframe tbody tr th {\n",
       "        vertical-align: top;\n",
       "    }\n",
       "\n",
       "    .dataframe thead th {\n",
       "        text-align: right;\n",
       "    }\n",
       "</style>\n",
       "<table border=\"1\" class=\"dataframe\">\n",
       "  <thead>\n",
       "    <tr style=\"text-align: right;\">\n",
       "      <th></th>\n",
       "      <th>Date</th>\n",
       "      <th>Open</th>\n",
       "      <th>High</th>\n",
       "      <th>Low</th>\n",
       "      <th>Close</th>\n",
       "      <th>Volume</th>\n",
       "    </tr>\n",
       "  </thead>\n",
       "  <tbody>\n",
       "    <tr>\n",
       "      <th>58</th>\n",
       "      <td>2023-10-13</td>\n",
       "      <td>79.6000</td>\n",
       "      <td>81.1100</td>\n",
       "      <td>77.2900</td>\n",
       "      <td>77.7900</td>\n",
       "      <td>38399388</td>\n",
       "    </tr>\n",
       "    <tr>\n",
       "      <th>59</th>\n",
       "      <td>2023-10-06</td>\n",
       "      <td>81.1000</td>\n",
       "      <td>81.4650</td>\n",
       "      <td>77.6100</td>\n",
       "      <td>80.3300</td>\n",
       "      <td>32993615</td>\n",
       "    </tr>\n",
       "    <tr>\n",
       "      <th>60</th>\n",
       "      <td>2023-09-29</td>\n",
       "      <td>82.6300</td>\n",
       "      <td>83.2800</td>\n",
       "      <td>81.0250</td>\n",
       "      <td>81.6700</td>\n",
       "      <td>28509898</td>\n",
       "    </tr>\n",
       "    <tr>\n",
       "      <th>61</th>\n",
       "      <td>2023-09-22</td>\n",
       "      <td>88.5700</td>\n",
       "      <td>89.4700</td>\n",
       "      <td>83.0050</td>\n",
       "      <td>83.2900</td>\n",
       "      <td>30897895</td>\n",
       "    </tr>\n",
       "    <tr>\n",
       "      <th>62</th>\n",
       "      <td>2023-09-15</td>\n",
       "      <td>85.3800</td>\n",
       "      <td>89.1050</td>\n",
       "      <td>83.2300</td>\n",
       "      <td>88.4100</td>\n",
       "      <td>53079999</td>\n",
       "    </tr>\n",
       "  </tbody>\n",
       "</table>\n",
       "</div>"
      ],
      "text/plain": [
       "          Date     Open     High      Low    Close    Volume\n",
       "58  2023-10-13  79.6000  81.1100  77.2900  77.7900  38399388\n",
       "59  2023-10-06  81.1000  81.4650  77.6100  80.3300  32993615\n",
       "60  2023-09-29  82.6300  83.2800  81.0250  81.6700  28509898\n",
       "61  2023-09-22  88.5700  89.4700  83.0050  83.2900  30897895\n",
       "62  2023-09-15  85.3800  89.1050  83.2300  88.4100  53079999"
      ]
     },
     "execution_count": 6,
     "metadata": {},
     "output_type": "execute_result"
    }
   ],
   "source": [
    "dataGS"
   ]
  }
 ],
 "metadata": {
  "kernelspec": {
   "display_name": "Python 3",
   "language": "python",
   "name": "python3"
  },
  "language_info": {
   "codemirror_mode": {
    "name": "ipython",
    "version": 3
   },
   "file_extension": ".py",
   "mimetype": "text/x-python",
   "name": "python",
   "nbconvert_exporter": "python",
   "pygments_lexer": "ipython3",
   "version": "3.13.0"
  }
 },
 "nbformat": 4,
 "nbformat_minor": 2
}
